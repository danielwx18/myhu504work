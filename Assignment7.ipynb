{
 "cells": [
  {
   "cell_type": "code",
   "execution_count": 1,
   "metadata": {},
   "outputs": [
    {
     "name": "stdout",
     "output_type": "stream",
     "text": [
      "It is a good one!\n",
      "Missing number for sure!\n",
      "This is a perfect one!\n",
      "It is an OK number!\n",
      "This is a perfect one!\n",
      "It is a good one!\n",
      "It is an OK number!\n",
      "It is not a legal number!\n",
      "It is not a legal number!\n"
     ]
    }
   ],
   "source": [
    "array = [3,1,6,10,12,9,4,-1,-10]\n",
    "for i in range(len(array)):\n",
    "    num = array[i]\n",
    "    if num<0:\n",
    "        print(\"It is not a legal number!\")\n",
    "    elif num%2==0 and num%3==0:\n",
    "        print(\"This is a perfect one!\")\n",
    "    elif num%2==0:\n",
    "        print(\"It is an OK number!\")\n",
    "    elif num%3==0:\n",
    "        print(\"It is a good one!\")\n",
    "    else:\n",
    "        print(\"Missing number for sure!\")"
   ]
  },
  {
   "cell_type": "code",
   "execution_count": 5,
   "metadata": {},
   "outputs": [
    {
     "name": "stdout",
     "output_type": "stream",
     "text": [
      "1\n",
      "2\n",
      "3\n",
      "successfull!\n",
      "please input again!\n"
     ]
    }
   ],
   "source": [
    "array = [1,2,3]\n",
    "try:\n",
    "    for i in range(len(array)):\n",
    "        print(array[i])\n",
    "except KeyError:\n",
    "    print(\"out of index!\")\n",
    "else:\n",
    "    print(\"successfull!\")\n",
    "finally:\n",
    "    print(\"please input again!\")"
   ]
  },
  {
   "cell_type": "code",
   "execution_count": 7,
   "metadata": {},
   "outputs": [
    {
     "name": "stdout",
     "output_type": "stream",
     "text": [
      "1\n",
      "2\n",
      "3\n",
      "out of index!\n",
      "please input again!\n"
     ]
    }
   ],
   "source": [
    "array = [1,2,3]\n",
    "try:\n",
    "    for i in range(len(array)+1):\n",
    "        print(array[i])\n",
    "except IndexError:\n",
    "    print(\"out of index!\")\n",
    "else:\n",
    "    print(\"successfull!\")\n",
    "finally:\n",
    "    print(\"please input again!\")"
   ]
  },
  {
   "cell_type": "code",
   "execution_count": null,
   "metadata": {
    "collapsed": true
   },
   "outputs": [],
   "source": []
  }
 ],
 "metadata": {
  "kernelspec": {
   "display_name": "Python 3",
   "language": "python",
   "name": "python3"
  },
  "language_info": {
   "codemirror_mode": {
    "name": "ipython",
    "version": 3
   },
   "file_extension": ".py",
   "mimetype": "text/x-python",
   "name": "python",
   "nbconvert_exporter": "python",
   "pygments_lexer": "ipython3",
   "version": "3.6.3"
  }
 },
 "nbformat": 4,
 "nbformat_minor": 2
}
