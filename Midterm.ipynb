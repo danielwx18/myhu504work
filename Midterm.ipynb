{
 "cells": [
  {
   "cell_type": "code",
   "execution_count": 1,
   "metadata": {},
   "outputs": [
    {
     "name": "stdout",
     "output_type": "stream",
     "text": [
      "Please insert bills: 5\n",
      "Please input the price of item: 7.23\n",
      "Please insert more bills: 5\n",
      "Your change includes: 2 dollars, 3 quarters, 1 pennies\n"
     ]
    }
   ],
   "source": [
    "#1\n",
    "money = [1.00, 0.25, 0.10, 0.05, 0.01]\n",
    "names = ['dollars','quarters','dimes','nickel','pennies']\n",
    "\n",
    "string = \"Your change includes: \"\n",
    "number1 = input(\"Please insert bills: \")\n",
    "number2 = input(\"Please input the price of item: \")\n",
    "payment = float(number1)\n",
    "item = float(number2)\n",
    "while item>payment:\n",
    "    number3=input(\"Please insert more bills: \")\n",
    "    payment+=float(number3)\n",
    "change = payment - item\n",
    "for i in range(len(money)):\n",
    "    num = 0\n",
    "    while change>=money[i]:\n",
    "        num+=1\n",
    "        change-=money[i]\n",
    "    if num>0:\n",
    "        string+=str(num)+\" \"+names[i]+\", \"\n",
    "print(string[:-2])"
   ]
  },
  {
   "cell_type": "code",
   "execution_count": 2,
   "metadata": {
    "collapsed": true
   },
   "outputs": [],
   "source": [
    "#2\n",
    "def encode(string):\n",
    "    res = \"\"\n",
    "    for c in string:\n",
    "        if c==' ':\n",
    "            res+='-'\n",
    "        elif c>='a' and c<='z':\n",
    "            res+=chr(ord(c)-32)\n",
    "        else:\n",
    "            res+=c\n",
    "    res+='.'\n",
    "    return res"
   ]
  },
  {
   "cell_type": "code",
   "execution_count": 3,
   "metadata": {},
   "outputs": [
    {
     "name": "stdout",
     "output_type": "stream",
     "text": [
      "Please type your sentence: I like python\n",
      "I-LIKE-PYTHON.\n"
     ]
    }
   ],
   "source": [
    "print(encode(input(\"Please type your sentence: \")))"
   ]
  },
  {
   "cell_type": "code",
   "execution_count": 4,
   "metadata": {
    "collapsed": true
   },
   "outputs": [],
   "source": [
    "#3\n",
    "#input is a string of number, try to decode it to an integer\n",
    "#legal expression: starts with space, sign or digits\n",
    "#integer range should be between −2^31 and (2^31)−1 included, otherwise, return MIN or MAX of integer\n",
    "#other cases should return 0\n",
    "def strDecoder(string):\n",
    "    if len(string)==0:\n",
    "        return 0\n",
    "    i = 0\n",
    "    leng = len(string)\n",
    "    while i<leng and string[i]==' ':\n",
    "        i+=1\n",
    "    if i>=leng:\n",
    "        return 0\n",
    "    sign = 1\n",
    "    if string[i]=='+' or string[i]=='-':\n",
    "        if string[i]=='-':\n",
    "            sign = -1\n",
    "        i+=1\n",
    "    sumOfnums = 0\n",
    "    MAX_INT = 2**31 - 1\n",
    "    MIN_INT = -2**31\n",
    "    while i<leng and string[i].isdigit():\n",
    "        digit = ord(string[i])-ord('0')\n",
    "        if sumOfnums==MAX_INT/10 and digit>MAX_INT%10 or sumOfnums>MAX_INT/10:\n",
    "            if sign==-1:\n",
    "                return MIN_INT\n",
    "            else: \n",
    "                return MAX_INT\n",
    "        sumOfnums = sumOfnums*10+digit;\n",
    "        i+=1;\n",
    "    return sign*sumOfnums"
   ]
  },
  {
   "cell_type": "code",
   "execution_count": 5,
   "metadata": {},
   "outputs": [
    {
     "name": "stdout",
     "output_type": "stream",
     "text": [
      "Please type your number:    498 go \n",
      "498\n"
     ]
    }
   ],
   "source": [
    "print(strDecoder(input(\"Please type your number: \")))"
   ]
  },
  {
   "cell_type": "code",
   "execution_count": 6,
   "metadata": {},
   "outputs": [
    {
     "name": "stdout",
     "output_type": "stream",
     "text": [
      "Please type your number: algo 65\n",
      "0\n"
     ]
    }
   ],
   "source": [
    "print(strDecoder(input(\"Please type your number: \")))"
   ]
  },
  {
   "cell_type": "code",
   "execution_count": 7,
   "metadata": {},
   "outputs": [
    {
     "name": "stdout",
     "output_type": "stream",
     "text": [
      "Please type your number:    -234\n",
      "-234\n"
     ]
    }
   ],
   "source": [
    "print(strDecoder(input(\"Please type your number: \")))"
   ]
  },
  {
   "cell_type": "code",
   "execution_count": 8,
   "metadata": {},
   "outputs": [
    {
     "name": "stdout",
     "output_type": "stream",
     "text": [
      "Please type your number: -3147483648\n",
      "-2147483648\n"
     ]
    }
   ],
   "source": [
    "print(strDecoder(input(\"Please type your number: \")))"
   ]
  },
  {
   "cell_type": "code",
   "execution_count": 9,
   "metadata": {},
   "outputs": [
    {
     "name": "stdout",
     "output_type": "stream",
     "text": [
      "Please type your number:     2147483650\n",
      "2147483647\n"
     ]
    }
   ],
   "source": [
    "print(strDecoder(input(\"Please type your number: \")))"
   ]
  }
 ],
 "metadata": {
  "kernelspec": {
   "display_name": "Python 3",
   "language": "python",
   "name": "python3"
  },
  "language_info": {
   "codemirror_mode": {
    "name": "ipython",
    "version": 3
   },
   "file_extension": ".py",
   "mimetype": "text/x-python",
   "name": "python",
   "nbconvert_exporter": "python",
   "pygments_lexer": "ipython3",
   "version": "3.6.3"
  }
 },
 "nbformat": 4,
 "nbformat_minor": 2
}
