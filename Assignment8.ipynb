{
 "cells": [
  {
   "cell_type": "code",
   "execution_count": 8,
   "metadata": {},
   "outputs": [
    {
     "name": "stdout",
     "output_type": "stream",
     "text": [
      "1 This number is odd\n",
      "4 This number is even\n",
      "5 This number is odd\n",
      "6 This number is even\n",
      "3 This number is odd\n",
      "2 This number is even\n",
      "7 This number is odd\n",
      "8 This number is even\n",
      "66 This number is even\n",
      "54 This number is even\n",
      "78 This number is even\n",
      "97 This number is odd\n",
      "54 This number is even\n",
      "34 This number is even\n",
      "67 This number is odd\n",
      "65 This number is odd\n",
      "56 This number is even\n",
      "45 This number is odd\n",
      "54 This number is even\n"
     ]
    }
   ],
   "source": [
    "#1\n",
    "List_1 = [1, 4, 5, 6, 3, 2, 7 ,8 , 66, 54, 78, 97, 54, 34, 67, 65, 56, 45, 54]\n",
    "for num in List_1:\n",
    "    if num%2==0:\n",
    "        print(str(num) + ' This number is even')\n",
    "    else:\n",
    "        print(str(num) + ' This number is odd')"
   ]
  },
  {
   "cell_type": "code",
   "execution_count": 9,
   "metadata": {},
   "outputs": [
    {
     "name": "stdout",
     "output_type": "stream",
     "text": [
      "1 This number is odd\n",
      "4 This number is even\n",
      "5 This number is odd\n",
      "6 This number is even\n",
      "3 This number is odd\n",
      "2 This number is even\n",
      "7 This number is odd\n",
      "8 This number is even\n",
      "66 This number is even\n"
     ]
    }
   ],
   "source": [
    "List_1 = [1, 4, 5, 6, 3, 2, 7 ,8 , 66, 54, 78, 97, 54, 34, 67, 65, 56, 45, 54]\n",
    "for num in List_1:\n",
    "    if num%2==0:\n",
    "        print(str(num) + ' This number is even')\n",
    "    else:\n",
    "        print(str(num) + ' This number is odd')\n",
    "    if num==66:\n",
    "        break"
   ]
  },
  {
   "cell_type": "code",
   "execution_count": 10,
   "metadata": {},
   "outputs": [
    {
     "name": "stdout",
     "output_type": "stream",
     "text": [
      "1 This number is odd\n",
      "4 This number is even\n",
      "5 This number is odd\n",
      "6 This number is even\n",
      "3 This number is odd\n",
      "2 This number is even\n",
      "7 This number is odd\n",
      "66 This number is even\n",
      "54 This number is even\n",
      "78 This number is even\n",
      "97 This number is odd\n",
      "54 This number is even\n",
      "34 This number is even\n",
      "67 This number is odd\n",
      "65 This number is odd\n"
     ]
    }
   ],
   "source": [
    "List_1 = [1, 4, 5, 6, 3, 2, 7 ,8 , 66, 54, 78, 97, 54, 34, 67, 65, 56, 45, 54]\n",
    "for num in List_1:\n",
    "    if num==8:\n",
    "        continue\n",
    "    if num%2==0:\n",
    "        print(str(num) + ' This number is even')\n",
    "    else:\n",
    "        print(str(num) + ' This number is odd')\n",
    "    if num==65:\n",
    "        break"
   ]
  },
  {
   "cell_type": "code",
   "execution_count": 1,
   "metadata": {},
   "outputs": [
    {
     "name": "stdout",
     "output_type": "stream",
     "text": [
      "1\n",
      "4\n",
      "5\n",
      "6\n",
      "3\n",
      "2\n",
      "7\n",
      "8\n"
     ]
    }
   ],
   "source": [
    "#2\n",
    "List_1 = [1, 4, 5, 6, 3, 2, 7 ,8 , 66, 54, 78, 97, 54, 34, 67, 65, 56, 45, 54]\n",
    "i = 0\n",
    "while i<len(List_1):\n",
    "    if List_1[i]<10:\n",
    "        print(List_1[i])\n",
    "    i+=1"
   ]
  },
  {
   "cell_type": "code",
   "execution_count": 2,
   "metadata": {},
   "outputs": [
    {
     "name": "stdout",
     "output_type": "stream",
     "text": [
      "1\n",
      "4\n",
      "5\n",
      "6\n",
      "3\n",
      "2\n",
      "7\n",
      "8\n"
     ]
    }
   ],
   "source": [
    "List_1 = [1, 4, 5, 6, 3, 2, 7 ,8 , 66, 54, 78, 97, 54, 34, 67, 65, 56, 45, 54]\n",
    "for num in List_1:\n",
    "    if num<10:\n",
    "        print(num)"
   ]
  }
 ],
 "metadata": {
  "kernelspec": {
   "display_name": "Python 3",
   "language": "python",
   "name": "python3"
  },
  "language_info": {
   "codemirror_mode": {
    "name": "ipython",
    "version": 3
   },
   "file_extension": ".py",
   "mimetype": "text/x-python",
   "name": "python",
   "nbconvert_exporter": "python",
   "pygments_lexer": "ipython3",
   "version": "3.6.3"
  }
 },
 "nbformat": 4,
 "nbformat_minor": 2
}
